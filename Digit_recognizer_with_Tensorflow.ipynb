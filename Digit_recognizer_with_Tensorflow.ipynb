{
  "nbformat": 4,
  "nbformat_minor": 0,
  "metadata": {
    "colab": {
      "name": "Digit recognizer with Tensorflow.ipynb",
      "version": "0.3.2",
      "provenance": [],
      "include_colab_link": true
    },
    "kernelspec": {
      "name": "python3",
      "display_name": "Python 3"
    }
  },
  "cells": [
    {
      "cell_type": "markdown",
      "metadata": {
        "id": "view-in-github",
        "colab_type": "text"
      },
      "source": [
        "<a href=\"https://colab.research.google.com/github/madhumithapr/learningML/blob/master/Digit_recognizer_with_Tensorflow.ipynb\" target=\"_parent\"><img src=\"https://colab.research.google.com/assets/colab-badge.svg\" alt=\"Open In Colab\"/></a>"
      ]
    },
    {
      "cell_type": "code",
      "metadata": {
        "id": "P3_ftJxO2TL-",
        "colab_type": "code",
        "colab": {}
      },
      "source": [
        "# Import the libraries\n",
        "import tensorflow as tf"
      ],
      "execution_count": 0,
      "outputs": []
    },
    {
      "cell_type": "code",
      "metadata": {
        "id": "EzbZHoeV3xHM",
        "colab_type": "code",
        "colab": {}
      },
      "source": [
        "# Load the dataset\n",
        "mnist = tf.keras.datasets.mnist"
      ],
      "execution_count": 0,
      "outputs": []
    },
    {
      "cell_type": "code",
      "metadata": {
        "id": "p5QU9vOEjoq2",
        "colab_type": "code",
        "colab": {
          "base_uri": "https://localhost:8080/",
          "height": 71
        },
        "outputId": "cc54d28b-4588-4e7a-ddbf-b3722166887d"
      },
      "source": [
        "# Load the dataset for training and testing separating the labels\n",
        "# x -> images; y -> label\n",
        "(train_x, train_y), (test_x, test_y) = mnist.load_data()\n",
        "\n",
        "# Convert images to greyscale \n",
        "train_x, test_x = train_x / 255.0, test_x / 255.0"
      ],
      "execution_count": 3,
      "outputs": [
        {
          "output_type": "stream",
          "text": [
            "Downloading data from https://storage.googleapis.com/tensorflow/tf-keras-datasets/mnist.npz\n",
            "11493376/11490434 [==============================] - 0s 0us/step\n"
          ],
          "name": "stdout"
        }
      ]
    },
    {
      "cell_type": "code",
      "metadata": {
        "id": "83fq4tVP-HTO",
        "colab_type": "code",
        "colab": {}
      },
      "source": [
        "# Model the Sequential network\n",
        "model = tf.keras.models.Sequential([\n",
        "    tf.keras.layers.Flatten(input_shape=(28, 28)),\n",
        "    tf.keras.layers.Dense(512, activation=tf.nn.relu),\n",
        "    tf.keras.layers.Dropout(0.3),\n",
        "    tf.keras.layers.Dense(256, activation=tf.nn.relu),\n",
        "    tf.keras.layers.Dropout(0.2),\n",
        "    tf.keras.layers.Dense(64, activation=tf.nn.relu),\n",
        "    tf.keras.layers.Dropout(0.2),\n",
        "    tf.keras.layers.Dense(10, activation=tf.nn.softmax),\n",
        "])"
      ],
      "execution_count": 0,
      "outputs": []
    },
    {
      "cell_type": "code",
      "metadata": {
        "id": "mnu-btnmBASr",
        "colab_type": "code",
        "colab": {}
      },
      "source": [
        "# Add optimizer, loss and metrics\n",
        "model.compile(optimizer='adam',\n",
        "              loss='sparse_categorical_crossentropy',\n",
        "              metrics=['accuracy'])"
      ],
      "execution_count": 0,
      "outputs": []
    },
    {
      "cell_type": "code",
      "metadata": {
        "id": "y24kwVf9Bdb3",
        "colab_type": "code",
        "colab": {
          "base_uri": "https://localhost:8080/",
          "height": 394
        },
        "outputId": "c73dcbf2-9d78-42e7-fbba-d7f7d8ce6c5e"
      },
      "source": [
        "# Fit the model to data\n",
        "model.fit(train_x, train_y, epochs=10)"
      ],
      "execution_count": 10,
      "outputs": [
        {
          "output_type": "stream",
          "text": [
            "Epoch 1/10\n",
            "60000/60000 [==============================] - 13s 214us/sample - loss: 0.2835 - acc: 0.9149\n",
            "Epoch 2/10\n",
            "60000/60000 [==============================] - 12s 205us/sample - loss: 0.1442 - acc: 0.9584\n",
            "Epoch 3/10\n",
            "60000/60000 [==============================] - 12s 199us/sample - loss: 0.1147 - acc: 0.9671\n",
            "Epoch 4/10\n",
            "60000/60000 [==============================] - 12s 202us/sample - loss: 0.0936 - acc: 0.9729\n",
            "Epoch 5/10\n",
            "60000/60000 [==============================] - 12s 208us/sample - loss: 0.0822 - acc: 0.9753\n",
            "Epoch 6/10\n",
            "60000/60000 [==============================] - 12s 206us/sample - loss: 0.0739 - acc: 0.9785\n",
            "Epoch 7/10\n",
            "60000/60000 [==============================] - 12s 208us/sample - loss: 0.0667 - acc: 0.9801\n",
            "Epoch 8/10\n",
            "60000/60000 [==============================] - 12s 208us/sample - loss: 0.0636 - acc: 0.9814\n",
            "Epoch 9/10\n",
            "60000/60000 [==============================] - 12s 202us/sample - loss: 0.0567 - acc: 0.9829\n",
            "Epoch 10/10\n",
            "60000/60000 [==============================] - 12s 197us/sample - loss: 0.0531 - acc: 0.9839\n"
          ],
          "name": "stdout"
        },
        {
          "output_type": "execute_result",
          "data": {
            "text/plain": [
              "<tensorflow.python.keras.callbacks.History at 0x7fe4761eb940>"
            ]
          },
          "metadata": {
            "tags": []
          },
          "execution_count": 10
        }
      ]
    },
    {
      "cell_type": "code",
      "metadata": {
        "id": "8Di_9RiqCPTf",
        "colab_type": "code",
        "colab": {
          "base_uri": "https://localhost:8080/",
          "height": 71
        },
        "outputId": "7af39166-3ab9-4b1c-b043-cfe1334a5ba2"
      },
      "source": [
        "# Evaluate the results\n",
        "model.evaluate(test_x, test_y)"
      ],
      "execution_count": 11,
      "outputs": [
        {
          "output_type": "stream",
          "text": [
            "10000/10000 [==============================] - 1s 77us/sample - loss: 0.0755 - acc: 0.9801\n"
          ],
          "name": "stdout"
        },
        {
          "output_type": "execute_result",
          "data": {
            "text/plain": [
              "[0.07547873884352903, 0.9801]"
            ]
          },
          "metadata": {
            "tags": []
          },
          "execution_count": 11
        }
      ]
    }
  ]
}