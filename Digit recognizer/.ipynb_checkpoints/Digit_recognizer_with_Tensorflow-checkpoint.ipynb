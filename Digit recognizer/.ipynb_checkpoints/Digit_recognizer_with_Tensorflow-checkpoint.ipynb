{
 "cells": [
  {
   "cell_type": "markdown",
   "metadata": {
    "colab_type": "text",
    "id": "view-in-github"
   },
   "source": [
    "<a href=\"https://colab.research.google.com/github/madhumithapr/learningML/blob/master/Digit_recognizer_with_Tensorflow.ipynb\" target=\"_parent\"><img src=\"https://colab.research.google.com/assets/colab-badge.svg\" alt=\"Open In Colab\"/></a>"
   ]
  },
  {
   "cell_type": "code",
   "execution_count": 0,
   "metadata": {
    "colab": {},
    "colab_type": "code",
    "id": "P3_ftJxO2TL-"
   },
   "outputs": [],
   "source": [
    "# Import the libraries\n",
    "import tensorflow as tf"
   ]
  },
  {
   "cell_type": "code",
   "execution_count": 0,
   "metadata": {
    "colab": {},
    "colab_type": "code",
    "id": "EzbZHoeV3xHM"
   },
   "outputs": [],
   "source": [
    "# Load the dataset\n",
    "mnist = tf.keras.datasets.mnist"
   ]
  },
  {
   "cell_type": "code",
   "execution_count": 3,
   "metadata": {
    "colab": {
     "base_uri": "https://localhost:8080/",
     "height": 71
    },
    "colab_type": "code",
    "id": "p5QU9vOEjoq2",
    "outputId": "cc54d28b-4588-4e7a-ddbf-b3722166887d"
   },
   "outputs": [
    {
     "name": "stdout",
     "output_type": "stream",
     "text": [
      "Downloading data from https://storage.googleapis.com/tensorflow/tf-keras-datasets/mnist.npz\n",
      "11493376/11490434 [==============================] - 0s 0us/step\n"
     ]
    }
   ],
   "source": [
    "# Load the dataset for training and testing separating the labels\n",
    "# x -> images; y -> label\n",
    "(train_x, train_y), (test_x, test_y) = mnist.load_data()\n",
    "\n",
    "# Convert images to greyscale \n",
    "train_x, test_x = train_x / 255.0, test_x / 255.0"
   ]
  },
  {
   "cell_type": "code",
   "execution_count": 0,
   "metadata": {
    "colab": {},
    "colab_type": "code",
    "id": "83fq4tVP-HTO"
   },
   "outputs": [],
   "source": [
    "# Model the Sequential network\n",
    "model = tf.keras.models.Sequential([\n",
    "    tf.keras.layers.Flatten(input_shape=(28, 28)),\n",
    "    tf.keras.layers.Dense(512, activation=tf.nn.relu),\n",
    "    tf.keras.layers.Dropout(0.3),\n",
    "    tf.keras.layers.Dense(256, activation=tf.nn.relu),\n",
    "    tf.keras.layers.Dropout(0.2),\n",
    "    tf.keras.layers.Dense(64, activation=tf.nn.relu),\n",
    "    tf.keras.layers.Dropout(0.2),\n",
    "    tf.keras.layers.Dense(10, activation=tf.nn.softmax),\n",
    "])"
   ]
  },
  {
   "cell_type": "code",
   "execution_count": 0,
   "metadata": {
    "colab": {},
    "colab_type": "code",
    "id": "mnu-btnmBASr"
   },
   "outputs": [],
   "source": [
    "# Add optimizer, loss and metrics\n",
    "model.compile(optimizer='adam',\n",
    "              loss='sparse_categorical_crossentropy',\n",
    "              metrics=['accuracy'])"
   ]
  },
  {
   "cell_type": "code",
   "execution_count": 10,
   "metadata": {
    "colab": {
     "base_uri": "https://localhost:8080/",
     "height": 394
    },
    "colab_type": "code",
    "id": "y24kwVf9Bdb3",
    "outputId": "c73dcbf2-9d78-42e7-fbba-d7f7d8ce6c5e"
   },
   "outputs": [
    {
     "name": "stdout",
     "output_type": "stream",
     "text": [
      "Epoch 1/10\n",
      "60000/60000 [==============================] - 13s 214us/sample - loss: 0.2835 - acc: 0.9149\n",
      "Epoch 2/10\n",
      "60000/60000 [==============================] - 12s 205us/sample - loss: 0.1442 - acc: 0.9584\n",
      "Epoch 3/10\n",
      "60000/60000 [==============================] - 12s 199us/sample - loss: 0.1147 - acc: 0.9671\n",
      "Epoch 4/10\n",
      "60000/60000 [==============================] - 12s 202us/sample - loss: 0.0936 - acc: 0.9729\n",
      "Epoch 5/10\n",
      "60000/60000 [==============================] - 12s 208us/sample - loss: 0.0822 - acc: 0.9753\n",
      "Epoch 6/10\n",
      "60000/60000 [==============================] - 12s 206us/sample - loss: 0.0739 - acc: 0.9785\n",
      "Epoch 7/10\n",
      "60000/60000 [==============================] - 12s 208us/sample - loss: 0.0667 - acc: 0.9801\n",
      "Epoch 8/10\n",
      "60000/60000 [==============================] - 12s 208us/sample - loss: 0.0636 - acc: 0.9814\n",
      "Epoch 9/10\n",
      "60000/60000 [==============================] - 12s 202us/sample - loss: 0.0567 - acc: 0.9829\n",
      "Epoch 10/10\n",
      "60000/60000 [==============================] - 12s 197us/sample - loss: 0.0531 - acc: 0.9839\n"
     ]
    },
    {
     "data": {
      "text/plain": [
       "<tensorflow.python.keras.callbacks.History at 0x7fe4761eb940>"
      ]
     },
     "execution_count": 10,
     "metadata": {
      "tags": []
     },
     "output_type": "execute_result"
    }
   ],
   "source": [
    "# Fit the model to data\n",
    "model.fit(train_x, train_y, epochs=10)"
   ]
  },
  {
   "cell_type": "code",
   "execution_count": 11,
   "metadata": {
    "colab": {
     "base_uri": "https://localhost:8080/",
     "height": 71
    },
    "colab_type": "code",
    "id": "8Di_9RiqCPTf",
    "outputId": "7af39166-3ab9-4b1c-b043-cfe1334a5ba2"
   },
   "outputs": [
    {
     "name": "stdout",
     "output_type": "stream",
     "text": [
      "10000/10000 [==============================] - 1s 77us/sample - loss: 0.0755 - acc: 0.9801\n"
     ]
    },
    {
     "data": {
      "text/plain": [
       "[0.07547873884352903, 0.9801]"
      ]
     },
     "execution_count": 11,
     "metadata": {
      "tags": []
     },
     "output_type": "execute_result"
    }
   ],
   "source": [
    "# Evaluate the results\n",
    "model.evaluate(test_x, test_y)"
   ]
  }
 ],
 "metadata": {
  "colab": {
   "include_colab_link": true,
   "name": "Digit recognizer with Tensorflow.ipynb",
   "provenance": [],
   "version": "0.3.2"
  },
  "kernelspec": {
   "display_name": "Python 3",
   "language": "python",
   "name": "python3"
  },
  "language_info": {
   "codemirror_mode": {
    "name": "ipython",
    "version": 3
   },
   "file_extension": ".py",
   "mimetype": "text/x-python",
   "name": "python",
   "nbconvert_exporter": "python",
   "pygments_lexer": "ipython3",
   "version": "3.7.3"
  }
 },
 "nbformat": 4,
 "nbformat_minor": 1
}
